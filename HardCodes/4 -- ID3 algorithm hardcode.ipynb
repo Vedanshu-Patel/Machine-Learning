{
 "cells": [
  {
   "cell_type": "code",
   "execution_count": 3,
   "id": "fdfe5c1e",
   "metadata": {},
   "outputs": [],
   "source": [
    "#Step-1: Importing the dataset\n",
    "import pandas as pd\n",
    "import numpy as np"
   ]
  },
  {
   "cell_type": "code",
   "execution_count": 4,
   "id": "ad3d9783",
   "metadata": {},
   "outputs": [
    {
     "data": {
      "text/html": [
       "<div>\n",
       "<style scoped>\n",
       "    .dataframe tbody tr th:only-of-type {\n",
       "        vertical-align: middle;\n",
       "    }\n",
       "\n",
       "    .dataframe tbody tr th {\n",
       "        vertical-align: top;\n",
       "    }\n",
       "\n",
       "    .dataframe thead th {\n",
       "        text-align: right;\n",
       "    }\n",
       "</style>\n",
       "<table border=\"1\" class=\"dataframe\">\n",
       "  <thead>\n",
       "    <tr style=\"text-align: right;\">\n",
       "      <th></th>\n",
       "      <th>Outlook</th>\n",
       "      <th>Temperature</th>\n",
       "      <th>Humidity</th>\n",
       "      <th>Wind</th>\n",
       "      <th>Play Tennis</th>\n",
       "    </tr>\n",
       "  </thead>\n",
       "  <tbody>\n",
       "    <tr>\n",
       "      <th>0</th>\n",
       "      <td>Sunny</td>\n",
       "      <td>Hot</td>\n",
       "      <td>High</td>\n",
       "      <td>Weak</td>\n",
       "      <td>No</td>\n",
       "    </tr>\n",
       "    <tr>\n",
       "      <th>1</th>\n",
       "      <td>Sunny</td>\n",
       "      <td>Hot</td>\n",
       "      <td>High</td>\n",
       "      <td>Strong</td>\n",
       "      <td>No</td>\n",
       "    </tr>\n",
       "    <tr>\n",
       "      <th>2</th>\n",
       "      <td>Overcast</td>\n",
       "      <td>Hot</td>\n",
       "      <td>High</td>\n",
       "      <td>Weak</td>\n",
       "      <td>Yes</td>\n",
       "    </tr>\n",
       "    <tr>\n",
       "      <th>3</th>\n",
       "      <td>Rain</td>\n",
       "      <td>Mild</td>\n",
       "      <td>High</td>\n",
       "      <td>Weak</td>\n",
       "      <td>Yes</td>\n",
       "    </tr>\n",
       "    <tr>\n",
       "      <th>4</th>\n",
       "      <td>Rain</td>\n",
       "      <td>Cool</td>\n",
       "      <td>Normal</td>\n",
       "      <td>Weak</td>\n",
       "      <td>Yes</td>\n",
       "    </tr>\n",
       "  </tbody>\n",
       "</table>\n",
       "</div>"
      ],
      "text/plain": [
       "    Outlook Temperature Humidity    Wind Play Tennis\n",
       "0     Sunny         Hot     High    Weak          No\n",
       "1     Sunny         Hot     High  Strong          No\n",
       "2  Overcast         Hot     High    Weak         Yes\n",
       "3      Rain        Mild     High    Weak         Yes\n",
       "4      Rain        Cool   Normal    Weak         Yes"
      ]
     },
     "execution_count": 4,
     "metadata": {},
     "output_type": "execute_result"
    }
   ],
   "source": [
    "#Step-2: Reading the dataset\n",
    "train_data = pd.read_csv(\"D:\\\\Machine Learning\\\\Datasets\\\\Decision Tree Data\\\\PlayTennis.csv\")\n",
    "train_data.head()"
   ]
  },
  {
   "cell_type": "code",
   "execution_count": 5,
   "id": "06c5fa8a",
   "metadata": {},
   "outputs": [],
   "source": [
    "#Step-3: Calculating the entropy of the whole dataset\n",
    "\n",
    "def calculate_total_entropy(train_data, label, class_list):\n",
    "    no_of_rows = train_data.shape[0] #the total size of the dataset\n",
    "    total_entropy = 0\n",
    "    \n",
    "    for c in class_list : #for each class in the label\n",
    "        total_class_count = train_data[train_data[label] == c].shape[0]\n",
    "        #number of the class\n",
    "        total_class_entropy = -(total_class_count/no_of_rows)*np.log2(total_class_count/no_of_rows)\n",
    "        #entropy of the class\n",
    "        total_entropy += total_class_entropy\n",
    "        #adding the class entropy to the total entropy of the dataset\n",
    "        \n",
    "    return total_entropy"
   ]
  },
  {
   "cell_type": "code",
   "execution_count": 6,
   "id": "82d8b9ea",
   "metadata": {},
   "outputs": [],
   "source": [
    "#Step-4: Calculating the entropy of the filtered dataset\n",
    "\n",
    "def calculate_entropy(feature_value_data, label, class_list):\n",
    "    class_count = feature_value_data.shape[0]\n",
    "    entropy = 0\n",
    "    \n",
    "    for c in class_list : \n",
    "        label_class_count = feature_value_data[feature_value_data[label] == c].shape[0]\n",
    "        #row count of the class c\n",
    "        entropy_class = 0\n",
    "        if label_class_count != 0:\n",
    "            prob_class = label_class_count/class_count\n",
    "            #probability of the class\n",
    "            entropy_class = -(prob_class)*np.log2(prob_class)\n",
    "            #entropy \n",
    "        entropy += entropy_class\n",
    "        \n",
    "    return entropy"
   ]
  },
  {
   "cell_type": "code",
   "execution_count": 7,
   "id": "c9147d0e",
   "metadata": {},
   "outputs": [],
   "source": [
    "#Step-5: Calculating information gain for a feature\n",
    "\n",
    "def calculate_info_gain(feature_name, train_data, label, class_list):\n",
    "    feature_value_list = train_data[feature_name].unique() \n",
    "    #unqiue values of the feature\n",
    "    no_of_rows = train_data.shape[0]\n",
    "    feature_info_gain = 0.0\n",
    "    \n",
    "    for feature_value in feature_value_list:\n",
    "        feature_value_data = train_data[train_data[feature_name] == feature_value] \n",
    "        #filtering rows with that feature_value\n",
    "        feature_value_count = feature_value_data.shape[0]\n",
    "        feature_value_entropy = calculate_entropy(feature_value_data, label, class_list) \n",
    "        #calculcating entropy for the feature value\n",
    "        feature_value_probability = feature_value_count/no_of_rows\n",
    "        feature_info_gain += feature_value_probability * feature_value_entropy \n",
    "        #calculating information of the feature value\n",
    "        \n",
    "    return calculate_total_entropy(train_data, label, class_list) - feature_info_gain \n",
    "    #calculating information gain by subtracting\n"
   ]
  },
  {
   "cell_type": "code",
   "execution_count": 8,
   "id": "f88206b3",
   "metadata": {},
   "outputs": [],
   "source": [
    "#Step-6: Finding the most informative feature (feature with highest information gain)\n",
    "\n",
    "def find_most_informative_feature(train_data, label, class_list):\n",
    "    feature_list = train_data.columns.drop(label) \n",
    "    # finding the feature names in the dataset\n",
    "    # label is not a feature, so dropping it\n",
    "    \n",
    "    max_info_gain = -1\n",
    "    max_info_feature = None\n",
    "    \n",
    "    for feature in feature_list:  #for each feature in the dataset\n",
    "        feature_info_gain = calculate_info_gain(feature, train_data, label, class_list)\n",
    "        if max_info_gain < feature_info_gain: \n",
    "            #selecting feature name with highest information gain\n",
    "            max_info_gain = feature_info_gain\n",
    "            max_info_feature = feature\n",
    "            \n",
    "    return max_info_feature"
   ]
  },
  {
   "cell_type": "code",
   "execution_count": 9,
   "id": "fc760d1d",
   "metadata": {},
   "outputs": [],
   "source": [
    "#Step-7: Adding a node to the tree\n",
    "\n",
    "def generate_sub_tree(feature_name, train_data, label, class_list):\n",
    "    feature_value_count_dict = train_data[feature_name].value_counts(sort=False) \n",
    "    #dictionary of the count of unqiue feature value\n",
    "    tree = {} #sub tree or node\n",
    "    \n",
    "    for feature_value, count in feature_value_count_dict.iteritems():\n",
    "        feature_value_data = train_data[train_data[feature_name] == feature_value] \n",
    "        #dataset with only feature_name = feature_value\n",
    "        \n",
    "        assigned_to_node = False \n",
    "        #flag for tracking feature_value is pure class or not\n",
    "        \n",
    "        for c in class_list: #for each class\n",
    "            class_count = feature_value_data[feature_value_data[label] == c].shape[0] \n",
    "            #count of class c\n",
    "            if class_count == count: \n",
    "            # count of feature_value = count of class (pure class)\n",
    "                tree[feature_value] = c \n",
    "                #adding node to the tree\n",
    "                train_data = train_data[train_data[feature_name] != feature_value] \n",
    "                #removing rows with feature_value\n",
    "                assigned_to_node = True\n",
    "                \n",
    "        if not assigned_to_node: #not pure class\n",
    "            tree[feature_value] = \"?\" \n",
    "            #not a pure classification -- should extend the node, so the branch is marked with ?\n",
    "            \n",
    "    return tree, train_data"
   ]
  },
  {
   "cell_type": "code",
   "execution_count": 10,
   "id": "2fa16beb",
   "metadata": {},
   "outputs": [],
   "source": [
    "#Step-8: To create the final tree\n",
    "\n",
    "def make_tree(root, prev_feature_value, train_data, label, class_list):\n",
    "    if train_data.shape[0] != 0: \n",
    "    #if dataset becomes empty after updating\n",
    "        max_info_feature = find_most_informative_feature(train_data, label, class_list) \n",
    "        #most informative feature\n",
    "        tree, train_data = generate_sub_tree(max_info_feature, train_data, label, class_list) \n",
    "        #getting tree node and updated dataset\n",
    "        next_root = None\n",
    "        \n",
    "        if prev_feature_value != None: \n",
    "        #add to intermediate node of the tree\n",
    "            root[prev_feature_value] = dict()\n",
    "            root[prev_feature_value][max_info_feature] = tree\n",
    "            next_root = root[prev_feature_value][max_info_feature]\n",
    "        \n",
    "        else: \n",
    "        #add to root of the tree\n",
    "            root[max_info_feature] = tree\n",
    "            next_root = root[max_info_feature]\n",
    "        \n",
    "        for node, branch in list(next_root.items()): \n",
    "        #iterating the tree node\n",
    "            if branch == \"?\": #if it is expandable\n",
    "                feature_value_data = train_data[train_data[max_info_feature] == node] \n",
    "                #using the updated dataset\n",
    "                make_tree(next_root, node, feature_value_data, label, class_list) \n",
    "                #recursive call with updated dataset"
   ]
  },
  {
   "cell_type": "code",
   "execution_count": 11,
   "id": "2035ba6a",
   "metadata": {},
   "outputs": [],
   "source": [
    "#Step-9: Finding unique classes of the label and Starting the algorithm\n",
    "\n",
    "def id3(train_data_m, label):\n",
    "    train_data_copy = train_data.copy() #getting a copy of the dataset\n",
    "    tree = {} #tree which will be updated\n",
    "    class_list = train_data_copy[label].unique() #getting unqiue classes of the label\n",
    "    make_tree(tree, None, train_data, label, class_list) #start calling recursion\n",
    "    return tree"
   ]
  },
  {
   "cell_type": "code",
   "execution_count": 12,
   "id": "3eb5e993",
   "metadata": {},
   "outputs": [
    {
     "name": "stdout",
     "output_type": "stream",
     "text": [
      "INFERENCE RULE\n",
      "{'Outlook': {'Sunny': {'Humidity': {'High': 'No', 'Normal': 'Yes'}}, 'Overcast': 'Yes', 'Rain': {'Wind': {'Weak': 'Yes', 'Strong': 'No'}}}}\n"
     ]
    }
   ],
   "source": [
    "#Step-10:Printing the tree\n",
    "print(\"INFERENCE RULE\")\n",
    "tree = id3(train_data, 'Play Tennis')\n",
    "print(tree)"
   ]
  },
  {
   "cell_type": "code",
   "execution_count": 13,
   "id": "5abf9ad5",
   "metadata": {},
   "outputs": [],
   "source": [
    "#Step-11: Prediction\n",
    "\n",
    "def predict(tree, instance):\n",
    "    if not isinstance(tree, dict): #if it is leaf node\n",
    "        return tree #return the value\n",
    "    else:\n",
    "        root_node = next(iter(tree)) #getting first key/feature name of the dictionary\n",
    "        feature_value = instance[root_node] #value of the feature\n",
    "        if feature_value in tree[root_node]: #checking the feature value in current tree node\n",
    "            return predict(tree[root_node][feature_value], instance) #goto next feature\n",
    "        else:\n",
    "            return None"
   ]
  },
  {
   "cell_type": "code",
   "execution_count": 14,
   "id": "e232976c",
   "metadata": {},
   "outputs": [
    {
     "name": "stdout",
     "output_type": "stream",
     "text": [
      "Yes\n"
     ]
    }
   ],
   "source": [
    "instance1 = train_data.iloc[2]   #3rd instance of the dataset\n",
    "prediction = predict(tree,instance1)\n",
    "print(prediction)\n",
    "\n",
    "#Here, the third instance of the dataset is ['Overcast','Hot','High','Weak'] for which the label should be 'YES'"
   ]
  },
  {
   "cell_type": "code",
   "execution_count": 15,
   "id": "8d44a113",
   "metadata": {},
   "outputs": [],
   "source": [
    "#Step-12: Accuracy of the model\n",
    "\n",
    "def evaluate(tree, test_data, label):\n",
    "    correct_predict = 0\n",
    "    wrong_predict = 0\n",
    "    for index, row in test_data.iterrows(): #for each row in the dataset\n",
    "        result = predict(tree, test_data.iloc[index]) #predict the row\n",
    "        if result == test_data[label].iloc[index]: \n",
    "        #predicted value and expected value is same or not\n",
    "            correct_predict += 1 #increase correct count\n",
    "        \n",
    "        else:\n",
    "            wrong_preditct += 1 #increase incorrect count\n",
    "            \n",
    "    #calculating accuracy\n",
    "    accuracy = correct_predict / (correct_predict + wrong_predict) \n",
    "    return accuracy"
   ]
  },
  {
   "cell_type": "code",
   "execution_count": 16,
   "id": "1618010d",
   "metadata": {},
   "outputs": [
    {
     "data": {
      "text/html": [
       "<div>\n",
       "<style scoped>\n",
       "    .dataframe tbody tr th:only-of-type {\n",
       "        vertical-align: middle;\n",
       "    }\n",
       "\n",
       "    .dataframe tbody tr th {\n",
       "        vertical-align: top;\n",
       "    }\n",
       "\n",
       "    .dataframe thead th {\n",
       "        text-align: right;\n",
       "    }\n",
       "</style>\n",
       "<table border=\"1\" class=\"dataframe\">\n",
       "  <thead>\n",
       "    <tr style=\"text-align: right;\">\n",
       "      <th></th>\n",
       "      <th>Outlook</th>\n",
       "      <th>Temperature</th>\n",
       "      <th>Humidity</th>\n",
       "      <th>Wind</th>\n",
       "      <th>Play Tennis</th>\n",
       "    </tr>\n",
       "  </thead>\n",
       "  <tbody>\n",
       "    <tr>\n",
       "      <th>0</th>\n",
       "      <td>Overcast</td>\n",
       "      <td>Mild</td>\n",
       "      <td>Normal</td>\n",
       "      <td>Weak</td>\n",
       "      <td>Yes</td>\n",
       "    </tr>\n",
       "    <tr>\n",
       "      <th>1</th>\n",
       "      <td>Sunny</td>\n",
       "      <td>Mild</td>\n",
       "      <td>Normal</td>\n",
       "      <td>Weak</td>\n",
       "      <td>Yes</td>\n",
       "    </tr>\n",
       "    <tr>\n",
       "      <th>2</th>\n",
       "      <td>Rain</td>\n",
       "      <td>Mild</td>\n",
       "      <td>Normal</td>\n",
       "      <td>Weak</td>\n",
       "      <td>Yes</td>\n",
       "    </tr>\n",
       "    <tr>\n",
       "      <th>3</th>\n",
       "      <td>Rain</td>\n",
       "      <td>Cool</td>\n",
       "      <td>High</td>\n",
       "      <td>Strong</td>\n",
       "      <td>No</td>\n",
       "    </tr>\n",
       "  </tbody>\n",
       "</table>\n",
       "</div>"
      ],
      "text/plain": [
       "    Outlook Temperature Humidity    Wind Play Tennis\n",
       "0  Overcast        Mild   Normal    Weak         Yes\n",
       "1     Sunny        Mild   Normal    Weak         Yes\n",
       "2      Rain        Mild   Normal    Weak         Yes\n",
       "3      Rain        Cool     High  Strong          No"
      ]
     },
     "execution_count": 16,
     "metadata": {},
     "output_type": "execute_result"
    }
   ],
   "source": [
    "test_data = pd.read_csv(\"D:\\\\Machine Learning\\\\Datasets\\\\Decision Tree Data\\\\PlayTennis_test data.csv\")\n",
    "test_data.head()"
   ]
  },
  {
   "cell_type": "code",
   "execution_count": 19,
   "id": "b1a6c057",
   "metadata": {},
   "outputs": [
    {
     "name": "stdout",
     "output_type": "stream",
     "text": [
      "\n",
      "\n",
      "Instance - 1 :\n",
      "Yes\n",
      "\n",
      "\n",
      "Instance - 1 :\n",
      "Yes\n",
      "\n",
      "\n",
      "Instance - 1 :\n",
      "Yes\n",
      "\n",
      "\n",
      "Instance - 1 :\n",
      "No\n"
     ]
    }
   ],
   "source": [
    "for i in range(test_data.shape[0]):\n",
    "    instance1 = test_data.iloc[i]   #3rd instance of the dataset\n",
    "    prediction = predict(tree,instance1)\n",
    "    print(\"\\n\\nInstance - 1 :\")\n",
    "    print(prediction)"
   ]
  },
  {
   "cell_type": "code",
   "execution_count": 20,
   "id": "9ded8585",
   "metadata": {},
   "outputs": [
    {
     "name": "stdout",
     "output_type": "stream",
     "text": [
      "1.0\n"
     ]
    }
   ],
   "source": [
    "#evaluating the accuracy of the test dataset\n",
    "\n",
    "accuracy = evaluate(tree, test_data, 'Play Tennis')\n",
    "print(accuracy)"
   ]
  }
 ],
 "metadata": {
  "kernelspec": {
   "display_name": "Python 3 (ipykernel)",
   "language": "python",
   "name": "python3"
  },
  "language_info": {
   "codemirror_mode": {
    "name": "ipython",
    "version": 3
   },
   "file_extension": ".py",
   "mimetype": "text/x-python",
   "name": "python",
   "nbconvert_exporter": "python",
   "pygments_lexer": "ipython3",
   "version": "3.9.6"
  }
 },
 "nbformat": 4,
 "nbformat_minor": 5
}
